{
 "cells": [
  {
   "cell_type": "code",
   "execution_count": 1,
   "id": "e175a88e",
   "metadata": {
    "scrolled": true
   },
   "outputs": [
    {
     "name": "stdout",
     "output_type": "stream",
     "text": [
      "Requirement already satisfied: pyodbc in c:\\users\\s p e c t r e\\anaconda3\\lib\\site-packages (4.0.34)\n",
      "Requirement already satisfied: sqlalchemy in c:\\users\\s p e c t r e\\anaconda3\\lib\\site-packages (1.4.39)\n",
      "Requirement already satisfied: pandas in c:\\users\\s p e c t r e\\anaconda3\\lib\\site-packages (2.0.3)\n",
      "Requirement already satisfied: greenlet!=0.4.17 in c:\\users\\s p e c t r e\\anaconda3\\lib\\site-packages (from sqlalchemy) (2.0.1)\n",
      "Requirement already satisfied: python-dateutil>=2.8.2 in c:\\users\\s p e c t r e\\anaconda3\\lib\\site-packages (from pandas) (2.8.2)\n",
      "Requirement already satisfied: pytz>=2020.1 in c:\\users\\s p e c t r e\\anaconda3\\lib\\site-packages (from pandas) (2023.3.post1)\n",
      "Requirement already satisfied: tzdata>=2022.1 in c:\\users\\s p e c t r e\\anaconda3\\lib\\site-packages (from pandas) (2023.3)\n",
      "Requirement already satisfied: numpy>=1.21.0 in c:\\users\\s p e c t r e\\anaconda3\\lib\\site-packages (from pandas) (1.24.3)\n",
      "Requirement already satisfied: six>=1.5 in c:\\users\\s p e c t r e\\anaconda3\\lib\\site-packages (from python-dateutil>=2.8.2->pandas) (1.16.0)\n",
      "Note: you may need to restart the kernel to use updated packages.\n"
     ]
    }
   ],
   "source": [
    "pip install pyodbc sqlalchemy pandas"
   ]
  },
  {
   "cell_type": "code",
   "execution_count": 2,
   "id": "84bdff53",
   "metadata": {},
   "outputs": [
    {
     "name": "stdout",
     "output_type": "stream",
     "text": [
      "Requirement already satisfied: summarytools in c:\\users\\s p e c t r e\\anaconda3\\lib\\site-packages (0.3.0)\n",
      "Requirement already satisfied: pandas>=1.4.0 in c:\\users\\s p e c t r e\\anaconda3\\lib\\site-packages (from summarytools) (2.0.3)\n",
      "Requirement already satisfied: ipython>=7.20.0 in c:\\users\\s p e c t r e\\anaconda3\\lib\\site-packages (from summarytools) (8.15.0)\n",
      "Requirement already satisfied: numpy>=1.18.5 in c:\\users\\s p e c t r e\\anaconda3\\lib\\site-packages (from summarytools) (1.24.3)\n",
      "Requirement already satisfied: matplotlib>=3.3.0 in c:\\users\\s p e c t r e\\anaconda3\\lib\\site-packages (from summarytools) (3.7.2)\n",
      "Requirement already satisfied: backcall in c:\\users\\s p e c t r e\\anaconda3\\lib\\site-packages (from ipython>=7.20.0->summarytools) (0.2.0)\n",
      "Requirement already satisfied: decorator in c:\\users\\s p e c t r e\\anaconda3\\lib\\site-packages (from ipython>=7.20.0->summarytools) (5.1.1)\n",
      "Requirement already satisfied: jedi>=0.16 in c:\\users\\s p e c t r e\\anaconda3\\lib\\site-packages (from ipython>=7.20.0->summarytools) (0.18.1)\n",
      "Requirement already satisfied: matplotlib-inline in c:\\users\\s p e c t r e\\anaconda3\\lib\\site-packages (from ipython>=7.20.0->summarytools) (0.1.6)\n",
      "Requirement already satisfied: pickleshare in c:\\users\\s p e c t r e\\anaconda3\\lib\\site-packages (from ipython>=7.20.0->summarytools) (0.7.5)\n",
      "Requirement already satisfied: prompt-toolkit!=3.0.37,<3.1.0,>=3.0.30 in c:\\users\\s p e c t r e\\anaconda3\\lib\\site-packages (from ipython>=7.20.0->summarytools) (3.0.36)\n",
      "Requirement already satisfied: pygments>=2.4.0 in c:\\users\\s p e c t r e\\anaconda3\\lib\\site-packages (from ipython>=7.20.0->summarytools) (2.15.1)\n",
      "Requirement already satisfied: stack-data in c:\\users\\s p e c t r e\\anaconda3\\lib\\site-packages (from ipython>=7.20.0->summarytools) (0.2.0)\n",
      "Requirement already satisfied: traitlets>=5 in c:\\users\\s p e c t r e\\anaconda3\\lib\\site-packages (from ipython>=7.20.0->summarytools) (5.7.1)\n",
      "Requirement already satisfied: colorama in c:\\users\\s p e c t r e\\anaconda3\\lib\\site-packages (from ipython>=7.20.0->summarytools) (0.4.6)\n",
      "Requirement already satisfied: contourpy>=1.0.1 in c:\\users\\s p e c t r e\\anaconda3\\lib\\site-packages (from matplotlib>=3.3.0->summarytools) (1.0.5)\n",
      "Requirement already satisfied: cycler>=0.10 in c:\\users\\s p e c t r e\\anaconda3\\lib\\site-packages (from matplotlib>=3.3.0->summarytools) (0.11.0)\n",
      "Requirement already satisfied: fonttools>=4.22.0 in c:\\users\\s p e c t r e\\anaconda3\\lib\\site-packages (from matplotlib>=3.3.0->summarytools) (4.25.0)\n",
      "Requirement already satisfied: kiwisolver>=1.0.1 in c:\\users\\s p e c t r e\\anaconda3\\lib\\site-packages (from matplotlib>=3.3.0->summarytools) (1.4.4)\n",
      "Requirement already satisfied: packaging>=20.0 in c:\\users\\s p e c t r e\\anaconda3\\lib\\site-packages (from matplotlib>=3.3.0->summarytools) (23.1)\n",
      "Requirement already satisfied: pillow>=6.2.0 in c:\\users\\s p e c t r e\\anaconda3\\lib\\site-packages (from matplotlib>=3.3.0->summarytools) (9.4.0)\n",
      "Requirement already satisfied: pyparsing<3.1,>=2.3.1 in c:\\users\\s p e c t r e\\anaconda3\\lib\\site-packages (from matplotlib>=3.3.0->summarytools) (3.0.9)\n",
      "Requirement already satisfied: python-dateutil>=2.7 in c:\\users\\s p e c t r e\\anaconda3\\lib\\site-packages (from matplotlib>=3.3.0->summarytools) (2.8.2)\n",
      "Requirement already satisfied: pytz>=2020.1 in c:\\users\\s p e c t r e\\anaconda3\\lib\\site-packages (from pandas>=1.4.0->summarytools) (2023.3.post1)\n",
      "Requirement already satisfied: tzdata>=2022.1 in c:\\users\\s p e c t r e\\anaconda3\\lib\\site-packages (from pandas>=1.4.0->summarytools) (2023.3)\n",
      "Requirement already satisfied: parso<0.9.0,>=0.8.0 in c:\\users\\s p e c t r e\\anaconda3\\lib\\site-packages (from jedi>=0.16->ipython>=7.20.0->summarytools) (0.8.3)\n",
      "Requirement already satisfied: wcwidth in c:\\users\\s p e c t r e\\anaconda3\\lib\\site-packages (from prompt-toolkit!=3.0.37,<3.1.0,>=3.0.30->ipython>=7.20.0->summarytools) (0.2.5)\n",
      "Requirement already satisfied: six>=1.5 in c:\\users\\s p e c t r e\\anaconda3\\lib\\site-packages (from python-dateutil>=2.7->matplotlib>=3.3.0->summarytools) (1.16.0)\n",
      "Requirement already satisfied: executing in c:\\users\\s p e c t r e\\anaconda3\\lib\\site-packages (from stack-data->ipython>=7.20.0->summarytools) (0.8.3)\n",
      "Requirement already satisfied: asttokens in c:\\users\\s p e c t r e\\anaconda3\\lib\\site-packages (from stack-data->ipython>=7.20.0->summarytools) (2.0.5)\n",
      "Requirement already satisfied: pure-eval in c:\\users\\s p e c t r e\\anaconda3\\lib\\site-packages (from stack-data->ipython>=7.20.0->summarytools) (0.2.2)\n",
      "Note: you may need to restart the kernel to use updated packages.\n"
     ]
    }
   ],
   "source": [
    "pip install summarytools"
   ]
  },
  {
   "cell_type": "code",
   "execution_count": 3,
   "id": "eb1dbc73",
   "metadata": {},
   "outputs": [],
   "source": [
    "from sqlalchemy import create_engine #used to connect to your database\n",
    "import pandas as pd \n",
    "import pyodbc\n",
    "import matplotlib.pyplot as plt\n",
    "import seaborn as sns\n",
    "from summarytools import dfSummary"
   ]
  },
  {
   "cell_type": "code",
   "execution_count": 4,
   "id": "cc11778d",
   "metadata": {},
   "outputs": [
    {
     "name": "stdout",
     "output_type": "stream",
     "text": [
      "   Student_ID Student_Country  Question_ID Type_of_Answer Question_Level  \\\n",
      "0         647         Ireland           77              0          Basic   \n",
      "1          41        Portugal           77              1          Basic   \n",
      "2         340        Portugal           77              1          Basic   \n",
      "3         641           Italy           77              0          Basic   \n",
      "4         669        Portugal           77              1          Basic   \n",
      "\n",
      "        Topic    Subtopic                                           Keywords  \n",
      "0  Statistics  Statistics  Stem and Leaf diagram,Relative frequency,Sampl...  \n",
      "1  Statistics  Statistics  Stem and Leaf diagram,Relative frequency,Sampl...  \n",
      "2  Statistics  Statistics  Stem and Leaf diagram,Relative frequency,Sampl...  \n",
      "3  Statistics  Statistics  Stem and Leaf diagram,Relative frequency,Sampl...  \n",
      "4  Statistics  Statistics  Stem and Leaf diagram,Relative frequency,Sampl...  \n"
     ]
    }
   ],
   "source": [
    "server = \"DESKTOP-P89DQ7T\\SQLEXPRESS\"\n",
    "database = \"Project_1\"\n",
    "username = \"\"\n",
    "password = \"\"\n",
    "#creating the connection\n",
    "\n",
    "# Create connection string\n",
    "if username and password:\n",
    "    connection_string = f\"mssql+pyodbc://{username}:{password}@{server}/{database}?driver=ODBC+Driver+17+for+SQL+Server\"\n",
    "else:\n",
    "    connection_string = f\"mssql+pyodbc://@{server}/{database}?driver=ODBC+Driver+17+for+SQL+Server&Trusted_Connection=yes\"\n",
    "# Create SQLAlchemy engine\n",
    "engine = create_engine(connection_string)\n",
    "\n",
    "# Query the data\n",
    "query = \"SELECT * FROM [dbo].[Maths_grades];\" \n",
    "df = pd.read_sql(query, engine)\n",
    "\n",
    "# Display the data\n",
    "print(df.head())\n",
    "\n",
    "#Close the engine\n",
    "engine.dispose()"
   ]
  },
  {
   "cell_type": "code",
   "execution_count": 5,
   "id": "866ca13d",
   "metadata": {},
   "outputs": [],
   "source": [
    "#EDA"
   ]
  },
  {
   "cell_type": "code",
   "execution_count": 6,
   "id": "edd2fdad",
   "metadata": {},
   "outputs": [
    {
     "data": {
      "text/html": [
       "<style type=\"text/css\">\n",
       "#T_89048 thead>tr>th {\n",
       "  text-align: left;\n",
       "}\n",
       "#T_89048_row0_col0, #T_89048_row1_col0, #T_89048_row2_col0, #T_89048_row3_col0, #T_89048_row4_col0, #T_89048_row5_col0, #T_89048_row6_col0, #T_89048_row7_col0 {\n",
       "  text-align: left;\n",
       "  font-size: 12px;\n",
       "  vertical-align: middle;\n",
       "  width: 5%;\n",
       "  max-width: 50px;\n",
       "  min-width: 20px;\n",
       "}\n",
       "#T_89048_row0_col1, #T_89048_row1_col1, #T_89048_row2_col1, #T_89048_row3_col1, #T_89048_row4_col1, #T_89048_row5_col1, #T_89048_row6_col1, #T_89048_row7_col1 {\n",
       "  text-align: left;\n",
       "  font-size: 12px;\n",
       "  vertical-align: middle;\n",
       "  width: 15%;\n",
       "  max-width: 200px;\n",
       "  min-width: 100px;\n",
       "  word-break: break-word;\n",
       "}\n",
       "#T_89048_row0_col2, #T_89048_row1_col2, #T_89048_row2_col2, #T_89048_row3_col2, #T_89048_row4_col2, #T_89048_row5_col2, #T_89048_row6_col2, #T_89048_row7_col2 {\n",
       "  text-align: left;\n",
       "  font-size: 12px;\n",
       "  vertical-align: middle;\n",
       "  width: 30%;\n",
       "  min-width: 100px;\n",
       "}\n",
       "#T_89048_row0_col3, #T_89048_row1_col3, #T_89048_row2_col3, #T_89048_row3_col3, #T_89048_row4_col3, #T_89048_row5_col3, #T_89048_row6_col3, #T_89048_row7_col3 {\n",
       "  text-align: left;\n",
       "  font-size: 12px;\n",
       "  vertical-align: middle;\n",
       "  width: 25%;\n",
       "  min-width: 100px;\n",
       "}\n",
       "#T_89048_row0_col4, #T_89048_row1_col4, #T_89048_row2_col4, #T_89048_row3_col4, #T_89048_row4_col4, #T_89048_row5_col4, #T_89048_row6_col4, #T_89048_row7_col4 {\n",
       "  text-align: left;\n",
       "  font-size: 12px;\n",
       "  vertical-align: middle;\n",
       "  width: 20%;\n",
       "  min-width: 150px;\n",
       "}\n",
       "#T_89048_row0_col5, #T_89048_row1_col5, #T_89048_row2_col5, #T_89048_row3_col5, #T_89048_row4_col5, #T_89048_row5_col5, #T_89048_row6_col5, #T_89048_row7_col5 {\n",
       "  text-align: left;\n",
       "  font-size: 12px;\n",
       "  vertical-align: middle;\n",
       "  width: 10%;\n",
       "}\n",
       "</style>\n",
       "<table id=\"T_89048\">\n",
       "  <caption><strong>Data Frame Summary</strong><br>df<br>Dimensions: 9,546 x 8<br>Duplicates: 2,083</caption>\n",
       "  <thead>\n",
       "    <tr>\n",
       "      <th id=\"T_89048_level0_col0\" class=\"col_heading level0 col0\" >No</th>\n",
       "      <th id=\"T_89048_level0_col1\" class=\"col_heading level0 col1\" >Variable</th>\n",
       "      <th id=\"T_89048_level0_col2\" class=\"col_heading level0 col2\" >Stats / Values</th>\n",
       "      <th id=\"T_89048_level0_col3\" class=\"col_heading level0 col3\" >Freqs / (% of Valid)</th>\n",
       "      <th id=\"T_89048_level0_col4\" class=\"col_heading level0 col4\" >Graph</th>\n",
       "      <th id=\"T_89048_level0_col5\" class=\"col_heading level0 col5\" >Missing</th>\n",
       "    </tr>\n",
       "  </thead>\n",
       "  <tbody>\n",
       "    <tr>\n",
       "      <td id=\"T_89048_row0_col0\" class=\"data row0 col0\" >1</td>\n",
       "      <td id=\"T_89048_row0_col1\" class=\"data row0 col1\" ><strong>Student_ID</strong><br>[int64]</td>\n",
       "      <td id=\"T_89048_row0_col2\" class=\"data row0 col2\" >Mean (sd) : 775.4 (460.6)<br>min < med < max:<br>26.0 < 885.0 < 1565.0<br>IQR (CV) : 839.0 (1.7)</td>\n",
       "      <td id=\"T_89048_row0_col3\" class=\"data row0 col3\" >372 distinct values</td>\n",
       "      <td id=\"T_89048_row0_col4\" class=\"data row0 col4\" ><img src = \"data:image/png;base64, iVBORw0KGgoAAAANSUhEUgAAAKoAAABGCAYAAABc8A97AAAAOXRFWHRTb2Z0d2FyZQBNYXRwbG90bGliIHZlcnNpb24zLjcuMiwgaHR0cHM6Ly9tYXRwbG90bGliLm9yZy8pXeV/AAAACXBIWXMAAA9hAAAPYQGoP6dpAAACsklEQVR4nO3cz4raQBzA8d/UVaJCggh68wUKPXj0IfqwfYQefALfwJsgIWK6wZikh9JF6FbNjNH5Dd/PeTObw5dO50/WNE0jgO++vPoFgHu83foBY8xQRAaW45+apnm3fBb4cDVUY8xwOp1+j+N4YjP44XBIjTE/iBWubv2LOojjeLJard6TJCnaDJxlWbReryf7/X4gIoQKJzenfhGRJEmK2Wz2y2L8ocUzwD9YTEEFQoUKhAoVCBUqECpUIFSoQKhQgVChwl0b/tAj1LsZhBqQkO9mEGpYgr2bQaiecZy647qu+0mSpKHdzSBUj7hO3WVZRlVVfS2K4qeI2ITqLUL1i/XULSKy3W4nm81mdD6fe1283CsRqodsr1Wmaert1O2KfVSoQKhQgVChAqFCBUKFCoQKFQgVKhAqVCBUqECoUMHrI9RQLwGjPW9DDfkSMNrzNlQJ+BIw2vM5VBHhD7ThDxZTUIFQoYL3Uz+ep6qqvojExhjbITrbaSFUiIhInuf9siy/LRaLXq/Xa/0ZjEi3Oy2E2gGH/d+4ruv+o9/nHqfT6S2KotFyuSzm83na9vmud1qCDfVV05jL/q8PX5GOx2PbXRaRDndaggz1xdOY9f5vyF+RugoyVB+mMZv935C/InUVZKh/+TqNoT32UaECoUIFQoUKhAoVCBUqECpUCHp7Cs/leBp49SSQUPEQrqeBt04CCRUP4XIaeM9JIKHioRxOA6+eBLKYggqEChWY+v/DYQX7ssvPISPUT7isYH24/BwiQv2EywqWy8/dINQrbFawXH7uBospqECoUKHTqd/x7JfVMz50Fqrr2S+rZ1zqLFTXL0FZPeNS56t+27NfVs+4xGIKKhAqVCBUqHDX/1GzLIvaDnw8HiMRkTzPo91uN3rm81p/t9b3dn3+nr5+A5EGvMXYDrlqAAAAAElFTkSuQmCC\"></img></td>\n",
       "      <td id=\"T_89048_row0_col5\" class=\"data row0 col5\" >0<br>(0.0%)</td>\n",
       "    </tr>\n",
       "    <tr>\n",
       "      <td id=\"T_89048_row1_col0\" class=\"data row1 col0\" >2</td>\n",
       "      <td id=\"T_89048_row1_col1\" class=\"data row1 col1\" ><strong>Student_Country</strong><br>[object]</td>\n",
       "      <td id=\"T_89048_row1_col2\" class=\"data row1 col2\" >1. Portugal<br>2. Lithuania<br>3. Italy<br>4. Slovenia<br>5. Ireland<br>6. Russian Federation<br>7. Romania<br>8. Spain</td>\n",
       "      <td id=\"T_89048_row1_col3\" class=\"data row1 col3\" >5,495 (57.6%)<br>1,443 (15.1%)<br>1,358 (14.2%)<br>755 (7.9%)<br>300 (3.1%)<br>107 (1.1%)<br>60 (0.6%)<br>28 (0.3%)</td>\n",
       "      <td id=\"T_89048_row1_col4\" class=\"data row1 col4\" ><img src = \"data:image/png;base64, iVBORw0KGgoAAAANSUhEUgAAAJsAAAC4CAYAAAD0WZ4UAAAAOXRFWHRTb2Z0d2FyZQBNYXRwbG90bGliIHZlcnNpb24zLjcuMiwgaHR0cHM6Ly9tYXRwbG90bGliLm9yZy8pXeV/AAAACXBIWXMAAA9hAAAPYQGoP6dpAAADaUlEQVR4nO3dQU7bUBiF0d9RRJuJoygSS2hnLIBFsNguIgtg2D2gCA8aYJIOSimEMEjgXVfhnBU8VV9tbPlCt91uCxImYx+Az0NsxIiNGLERIzZixEZMV1Wzqjob+yAn7mG73W7GPsTYpsvl8qrv+8XYBzllwzCsu6778dmDm/Z9v7i8vNzM5/O7sQ9zim5vb7+uVqvFzc3NWVV97tiqqubz+d35+fmvsQ9zwmZjH+B/4AGBGLERIzZixEaM2IgRGzFiI0ZsxIiNGLERIzZixEaM2IiZVv35DGbsg5wq/7b/TIdhWK9Wq0X5DKaZYRjWVfUw9jnG5rPwDJ+FV1Xn1y+Q0vrK5n80T5oOXgw9eK7Z4MXQg12tBy+ecHnipS4xYiNGbMSIjRixESM2YsRGjNiIERsxYiNGbMSIjRixEdNs8GLowa6mgxdDD57zWTgxBi/EeEAgpuVt1C2UF5qtqyyr2NVkXWVZxT4t11WWVbzgAYEYsREjNmLERozYiBEbMWIjRmzEiI0YsREjNmLERozYiGmyrrKsYp9m6yrLKnb5LJwY6ypijrmyuWJxlIMHL4YsHOugwYshC+9xzODFkIWjeKlLjNiIERsxYiNGbMSIjRixESM2YsRGjNiIERsxYiNGbMQcNHgxZOE9Dh68GLJwLJ+FE2PwQowHBGLeuo26VfLh9q6rLKho4dW6yoKKVt5aV1lQ8eE8IBAjNmLERozYiBEbMWIjRmzEiI0YsREjNmLERozYiBEbMa/WVRZUtLJ3XWVBRQs+CyfGuoqY51c2VzOaehq8GLnQ2qTv+8XFxUU9Lqxa/ClIqKrH92yz2ex+7INw+rzUJUZsxIiNGLERIzZixEaM2IgRGzFiI0ZsxIiNGLERIzZixEbMpKpqs9l8GfsgnL7JMAzr6+triyqas0EgxrqKmL9XtnJVo7Xpcrm8qqqyrKK1Sd/3C8sqErxnI0ZsxIiNGLERIzZixEaM2IgRGzFiI0ZsxIiNGLERIzZixEaM2IiZPg5dqoxdaMxn4cQYvBDjZzZiJl3Xfe+6zt8YpblJVX2rKr9+gebcRokRGzFiI0ZsxIiNGLERIzZixEaM2IgRGzFiI0ZsxIiNGLERIzZixEbMpKp+VtX92Afh9Bm8EOM2SozYiBEbMWIjRmzEiI2Y35IST3t9PRJOAAAAAElFTkSuQmCC\"></img></td>\n",
       "      <td id=\"T_89048_row1_col5\" class=\"data row1 col5\" >0<br>(0.0%)</td>\n",
       "    </tr>\n",
       "    <tr>\n",
       "      <td id=\"T_89048_row2_col0\" class=\"data row2 col0\" >3</td>\n",
       "      <td id=\"T_89048_row2_col1\" class=\"data row2 col1\" ><strong>Question_ID</strong><br>[int64]</td>\n",
       "      <td id=\"T_89048_row2_col2\" class=\"data row2 col2\" >Mean (sd) : 478.9 (249.2)<br>min < med < max:<br>77.0 < 428.0 < 1549.0<br>IQR (CV) : 248.0 (1.9)</td>\n",
       "      <td id=\"T_89048_row2_col3\" class=\"data row2 col3\" >833 distinct values</td>\n",
       "      <td id=\"T_89048_row2_col4\" class=\"data row2 col4\" ><img src = \"data:image/png;base64, iVBORw0KGgoAAAANSUhEUgAAAKoAAABGCAYAAABc8A97AAAAOXRFWHRTb2Z0d2FyZQBNYXRwbG90bGliIHZlcnNpb24zLjcuMiwgaHR0cHM6Ly9tYXRwbG90bGliLm9yZy8pXeV/AAAACXBIWXMAAA9hAAAPYQGoP6dpAAACsElEQVR4nO3cT24aMRiH4c+FoIFIgxAV7LhApS5Y5hA9bI7QSJwgN8gOaYQ8gkKBYbpqV2kS7JkyP/d99k68eGXmn+3qujag6z7degLAR/RvPYG3OOeGZjYIHH6s63rf5HxwO50N1Tk3nE6n3/I8n4SML8ty45x7JNY0dDZUMxvkeT55eHjYj8fjwzUDvffZarWaFEUxMDNCTUCXQzUzs/F4fJjNZj8Chg4bnwxuhpspSCBUSCBUSCBUSCBUSCBUSCBUSCBUSCBUSCBUSCBUSCBUSCBUSCBUSCBUSCBUSCBUSCBUSCBUSCBUSCBUSCBUSCBUSCBUSCBUSGj1pJTIQ87yy+Vy1+R8oKu1UGMPOTudTllVVV8Oh8N3Mws50gcJaXNFDT7kzMzs5eVl8vz8PDqfz702JgctrR+SFnrI2Waz4ZAz/MHNFCQQKiQQKiQQKiQQKiQQKiQQKiQQKiQQKiQQKiQQKiQQKiQQKiQQKiQQKiS8+z1qxHYStpKgMW+GGrOdhK0kaNJ7K2rwdhL1rSSRGxOPdV3vm5zP/+5DW1FCtpMobyWJ3ZhYluXGOfdIrM1pfc+UqOBfEu99tlqtJkVRDMyMUBtCqG8I3ZhoZrK/Jl2VbKhVVd2ZWe6cCxnOE4uOSTLU3W53dzqdvi4Wi16v17v6TAGeWHRPkqEej8d+lmWj5XJ5mM/nm2vHqz+xSFGSof52f3/P4ReJ4BUqJCS9ot5K5I0cLwteQagNi72R42XB6wi1YTE3ct777OnpaVYUxWfnXBk6hRQjJ9SWhNzIxa7GZumuyITaIbGP1RpYkTu7GhNqB4U+Vkv5+phQExJ7fdzlj2kINUGhK7J1+GOaD4Xqvc+u/cPb7TYzM9vtdtl6vR79y/Gq//uW8/beZ1VV9S38+W+sn3Vd//Vy5Rd4F2Vd7qZpYgAAAABJRU5ErkJggg==\"></img></td>\n",
       "      <td id=\"T_89048_row2_col5\" class=\"data row2 col5\" >0<br>(0.0%)</td>\n",
       "    </tr>\n",
       "    <tr>\n",
       "      <td id=\"T_89048_row3_col0\" class=\"data row3 col0\" >4</td>\n",
       "      <td id=\"T_89048_row3_col1\" class=\"data row3 col1\" ><strong>Type_of_Answer</strong><br>[object]</td>\n",
       "      <td id=\"T_89048_row3_col2\" class=\"data row3 col2\" >1. 0<br>2. 1</td>\n",
       "      <td id=\"T_89048_row3_col3\" class=\"data row3 col3\" >5,076 (53.2%)<br>4,470 (46.8%)</td>\n",
       "      <td id=\"T_89048_row3_col4\" class=\"data row3 col4\" ><img src = \"data:image/png;base64, iVBORw0KGgoAAAANSUhEUgAAAJsAAAAuCAYAAAA/ZmtKAAAAOXRFWHRTb2Z0d2FyZQBNYXRwbG90bGliIHZlcnNpb24zLjcuMiwgaHR0cHM6Ly9tYXRwbG90bGliLm9yZy8pXeV/AAAACXBIWXMAAA9hAAAPYQGoP6dpAAABO0lEQVR4nO3bQWrDMBRF0a8iQjORMAYvxovoYrsI7cYYa5CETJRBx8GCiie7vWcFH3MxJPi5UooBCs7MrmZ26X3IH/Aspdx7H3FkfhzHrxDC0PuQs8s5r865b4J7z4cQhnme7zHGR+9jzmrbts+U0rAsy8XMiO0Nb2YWY3xM03TrfczJXXsfcHQfvQ/A/0FskCE2yBAbZIgNMsQGGWKDDLFBhtggQ2yQITbIEBtkiA0yxAYZYoOMN/v5+K/3IWfG86vjc85rSmkwPv77lZzzambP3nccGYOXdhi87HBM+aDCm60Ob60GmPJVYKbXBlO+Hcz02mHKV4df6g3wpy5kiA0yxAYZYoMMsUGG2CBDbJAhNsgQG2SIDTLEBhligwyxQYbYIENskGHKt4Nn0w5TvgrM9Npg8FKHwUsDLwpbat+d/9voAAAAAElFTkSuQmCC\"></img></td>\n",
       "      <td id=\"T_89048_row3_col5\" class=\"data row3 col5\" >0<br>(0.0%)</td>\n",
       "    </tr>\n",
       "    <tr>\n",
       "      <td id=\"T_89048_row4_col0\" class=\"data row4 col0\" >5</td>\n",
       "      <td id=\"T_89048_row4_col1\" class=\"data row4 col1\" ><strong>Question_Level</strong><br>[object]</td>\n",
       "      <td id=\"T_89048_row4_col2\" class=\"data row4 col2\" >1. Basic<br>2. Advanced</td>\n",
       "      <td id=\"T_89048_row4_col3\" class=\"data row4 col3\" >7,844 (82.2%)<br>1,702 (17.8%)</td>\n",
       "      <td id=\"T_89048_row4_col4\" class=\"data row4 col4\" ><img src = \"data:image/png;base64, iVBORw0KGgoAAAANSUhEUgAAAJsAAAAuCAYAAAA/ZmtKAAAAOXRFWHRTb2Z0d2FyZQBNYXRwbG90bGliIHZlcnNpb24zLjcuMiwgaHR0cHM6Ly9tYXRwbG90bGliLm9yZy8pXeV/AAAACXBIWXMAAA9hAAAPYQGoP6dpAAABLUlEQVR4nO3bwYnDMBQG4afFhM1FwhhcTIrYYrcIdWOMdUhCLt7D9jASeL4GXiCTQIL/dJ5nSIQUEfeIuPV+Ieric57nizo2Lcvyk3OeqYMaR2ttTyn9UsFNOef58Xi8Silv4qDGcBzHd6113rbtFhFMbBERpZT3uq5P4qCGciePfZHHdG3GJoyxCWNswhibMMYmjLEJY2zCGJswxiaMsQljbMIYmzDGJoyxCTNF/D9I1/uFiNXjPZ9aa3utdQ74QTr111rbI+JD3XPwcm3o4CU55ROlxzcb+mnSOPApHz0f0zjQKV+P+ZjG0WPK56/ei/JPXWGMTRhjE8bYhDE2YYxNGGMTxtiEMTZhjE0YYxPG2IQxNmGMTRhjEwad8jkZvDZ8ykfPxzQOBy/C/AEKW2rf7SbDxQAAAABJRU5ErkJggg==\"></img></td>\n",
       "      <td id=\"T_89048_row4_col5\" class=\"data row4 col5\" >0<br>(0.0%)</td>\n",
       "    </tr>\n",
       "    <tr>\n",
       "      <td id=\"T_89048_row5_col0\" class=\"data row5 col0\" >6</td>\n",
       "      <td id=\"T_89048_row5_col1\" class=\"data row5 col1\" ><strong>Topic</strong><br>[object]</td>\n",
       "      <td id=\"T_89048_row5_col2\" class=\"data row5 col2\" >1. Linear Algebra<br>2. Fundamental Mathematics<br>3. Complex Numbers<br>4. Differentiation<br>5. Analytic Geometry<br>6. Statistics<br>7. Numerical Methods<br>8. Optimization<br>9. Real Functions of a single var<br>10. Integration<br>11. other</td>\n",
       "      <td id=\"T_89048_row5_col3\" class=\"data row5 col3\" >5,726 (60.0%)<br>818 (8.6%)<br>592 (6.2%)<br>579 (6.1%)<br>358 (3.8%)<br>340 (3.6%)<br>310 (3.2%)<br>182 (1.9%)<br>164 (1.7%)<br>144 (1.5%)<br>333 (3.5%)</td>\n",
       "      <td id=\"T_89048_row5_col4\" class=\"data row5 col4\" ><img src = \"data:image/png;base64, iVBORw0KGgoAAAANSUhEUgAAAJsAAAD+CAYAAAAtWHdlAAAAOXRFWHRTb2Z0d2FyZQBNYXRwbG90bGliIHZlcnNpb24zLjcuMiwgaHR0cHM6Ly9tYXRwbG90bGliLm9yZy8pXeV/AAAACXBIWXMAAA9hAAAPYQGoP6dpAAAEdElEQVR4nO3dQU4UaQCG4R9CGNk0ISQcwwNwiDnsHKIP4D0IoRfiuGEWIwQVtKGr3kqs59npqkJef1KV+qyjh4eHAYXjpS+A9RAbGbGRERsZsZERGxmxkREbGbGRORpjnI0xTpe+kJX5+vDwcL/0RdROLi8v/95sNhdLX8ia7Ha726Ojo3/WFtzJZrO5uL6+vj8/P/+y9MWswd3d3Yftdntxc3NzOsZYV2xjjHF+fv7l6urq89IXsyJnS1/AEtwgkBEbGbGRERsZsZERGxmxkREbGbGRERsZsZERGxmxkREbmZMx/n/HaukLWYs1/6xPdrvd7Xa7vRgrfcdqCbvd7naM8XXp66jZICxjlRuEI/9lFpX3nmyr/JfJYd61rlrrOojDvHldteZ1EId577rKnStv5qEuGbGRERsZsZERGxmxkREbGbGRERsZsZERGxmxkREbmTcPXtY82OAw7xq8rHWwwWG8Fk7G4IXMW042pxkH2XvwYuTCofYavBi5MIW3DF6MXDiIh7pkxEZGbGTERkZsZMRGRmxkxEZGbGTERkZsZMRGRmxk9hq8GLkwhb0HL0YuHMpr4WQMXsi4QSCz769Rv0I52F7rKssqpvDbdZVlFVPZd11lWcXB3CCQERsZsZERGxmxkREbGbGRERsZsZERGxmxkREbGbGR+e26yrKKqey1rrKsYgpeCydjXUXmVyeb04xJvTp4MXJhai8OXoxcmMOvBi9GLkzKQ10yYiMjNjJiIyM2MmIjIzYyYiMjNjJiIyM2MmIjIzYyLw5ejFyYw6uDFyMXpua1cDIGL2ScbGQMXsgYvJAxeCHjoS4ZsZERGxmxkREbGbGRERsZsZERGxmxkREbGbGRERsZsZGxriJjXUXGBoGMdRWZ1042pxqTe3FdZVnFHH5aV1lWMZfX1lWWVUzOQ10yYiMjNjJiIyM2MmIjIzYyYiMjNjJiIyM2MmIjIzYyPw1ejF2Yy4uDF2MX5uC1cDIGL2R+PNmcaMzmu8GLoQtzOn4cvFxfX99/i+6lwTIc7Gnw8u3Phi7MxkNdMmIjIzYyYiMjNjJiIyM2MmIjIzYyYiMjNjJiIyM2Mi9+4QXm8HzwYujCrLwWTsbghYwbBDJ+jZKxriJjXUXGuoqMGwQyYiMjNjJiIyM2MmIjIzYyYiMjNjJiIyM2MmIjIzYy1lVkrKvIeC2cjHUVmecnm1ONWT0NXoxdmNvxZrO5+Pjx4zB2YW7HY4xxdnb279IXwp/PQ10yYiMjNjJiIyM2MmIjIzYyYiMjNjJiIyM2MmIjIzYyx2OMcX9//9fSF8Kf73i3291++vTJ2IXZeS2cjMELmR+nfI+cckzuuy+8PDJ+YQ4nj194efzwxt3d3Yftdntxc3NzOsYQG5N5+sLL1dXV52d/70svTM5DXTJiIyM2MmIjIzYyYiMjNjJiIyM2MmIjIzYyYiMjNjI/feHF116Yy/MvvDy9VmT8why8Fk7G4IWMGwQyYiMjNjJiIyM2MmIjIzYyYiMjNjL/AVhnJwkik6XPAAAAAElFTkSuQmCC\"></img></td>\n",
       "      <td id=\"T_89048_row5_col5\" class=\"data row5 col5\" >0<br>(0.0%)</td>\n",
       "    </tr>\n",
       "    <tr>\n",
       "      <td id=\"T_89048_row6_col0\" class=\"data row6 col0\" >7</td>\n",
       "      <td id=\"T_89048_row6_col1\" class=\"data row6 col1\" ><strong>Subtopic</strong><br>[object]</td>\n",
       "      <td id=\"T_89048_row6_col2\" class=\"data row6 col2\" >1. Vector Spaces<br>2. Linear Transformations<br>3. Complex Numbers<br>4. Algebraic expressions, Equatio<br>5. Linear Systems<br>6. Analytic Geometry<br>7. Statistics<br>8. Elementary Geometry<br>9. Derivatives<br>10. Numerical Methods<br>11. other</td>\n",
       "      <td id=\"T_89048_row6_col3\" class=\"data row6 col3\" >2,749 (28.8%)<br>2,127 (22.3%)<br>592 (6.2%)<br>496 (5.2%)<br>420 (4.4%)<br>358 (3.8%)<br>340 (3.6%)<br>322 (3.4%)<br>317 (3.3%)<br>310 (3.2%)<br>1,515 (15.9%)</td>\n",
       "      <td id=\"T_89048_row6_col4\" class=\"data row6 col4\" ><img src = \"data:image/png;base64, iVBORw0KGgoAAAANSUhEUgAAAJsAAAD+CAYAAAAtWHdlAAAAOXRFWHRTb2Z0d2FyZQBNYXRwbG90bGliIHZlcnNpb24zLjcuMiwgaHR0cHM6Ly9tYXRwbG90bGliLm9yZy8pXeV/AAAACXBIWXMAAA9hAAAPYQGoP6dpAAAEFklEQVR4nO3cQW5aSQBF0aJlRZ0JyLLkxXgRvdheBLuxLDNIokzIoJVBy4BBLi7gnLOCP7gq9L/qsdhutwMKf136AfhziI2M2MiIjYzYyIiNjNjIiI2M2MgsxhhfxxhfLv0gJ/q53W6/X/ohOM3dw8PDP8vl8v7SD3KKzWbzslgs/hXcbblbLpf3T09P31er1Y9LP8wxXl9f/16v1/fPz89fxhhiuyF3Y4yxWq1+PD4+frv0w5zg66UfgNN5QSAjNjJiIyM2MmIjIzYyYiMjNjJiIyM2MmIjIzYyYiMjNjJ3Y/x3R+zSD3KsW3pW/u9us9m8rNfr+3FDd8Q2m83LGOPnpZ+D09ggkFn4yywq13ayObE+sataV1lNfW5Xs66ymvr8rm1ddTNvxJzOR10yYiMjNjJiIyM2MmIjIzYyYiMjNjJiIyM2MmIjIzYyVzN4uYZn4LyuavBiyPK5uRZOxuCFzCknm1OHDzl68GKMwkcdNXgxRmGGUwYvF39b5bb5qEtGbGTERkZsZMRGRmxkxEZGbGTERkZsZMRGRmxkxEbmqMGLMQozHD14MUbho1wLJ2PwQsYLApljfkb9fDLFu+sqqypmObiusqpipmPWVVZVTOEFgYzYyIiNjNjIiI2M2MiIjYzYyIiNjNjIiI2M2MiIjczBdZVVFTO9u66yqmIW18LJWFeRee9kc6oxzcHBi7ELM+0dvBi7MNt7gxdjF6bxUZeM2MiIjYzYyIiNjNjIiI2M2MiIjYzYyIiNjNjIiI3M3sGLsQuzHRy8GLswk2vhZAxeyBw62ZxqTLV38GLswmw7By/GLpzDocGLsQtT+ahLRmxkxEZGbGTERkZsZMRGRmxkxEZGbGTERkZsZMRGRmxkdq6rLKs4h73rKssqZrNBIGNdRcbJRsa6iox1FRnrKjI+6pIRGxmxkREbGbGRERsZsZERGxmxkREbGbGRERsZsZExeCFj8ELGtXAyBi9k9p1sTjWm2zl4MXbhHN4MXoxdOJd9gxdjF6bzUZeM2MiIjYzYyIiNjNjIiI2M2MiIjYzYyIiNjNjIiI3Mm8GLsQvnsnPwYuzCObgWTsbghYwXBDJ+RslYV5GxriJjXUXGCwIZsZERGxmxkREbGbGRERsZsZERGxmxkREbGbGRERsZ6yoy1lVkXAsnY11FxslGxuCFjMELGYMXMj7qkhEbGbGRERsZsZERGxmxkREbGbGRERsZsZERGxmxkTF4IWPwQsa1cDIGL2T2nWyzOSnZPXiZzYCGMXYMXmYzoOG3fYOX2Qxo8FGXjtjIiI2M2MiIjYzYyIiNjNjIiI2M2MiIjYzYyIiNzJvBy2wGNPy2c/AymwENY7gWTsjghYwXBDJiIyM2MmIjIzYyYiMjNjJiIyM2Mr8AmWtO4syuUdUAAAAASUVORK5CYII=\"></img></td>\n",
       "      <td id=\"T_89048_row6_col5\" class=\"data row6 col5\" >0<br>(0.0%)</td>\n",
       "    </tr>\n",
       "    <tr>\n",
       "      <td id=\"T_89048_row7_col0\" class=\"data row7 col0\" >8</td>\n",
       "      <td id=\"T_89048_row7_col1\" class=\"data row7 col1\" ><strong>Keywords</strong><br>[object]</td>\n",
       "      <td id=\"T_89048_row7_col2\" class=\"data row7 col2\" >1. Linear application,Linearity<br>2. Simplify expressions<br>3. Subspace,Linear combination,Sp<br>4. Linear independence,Span,Linea<br>5. Range,Kernel<br>6. Matrix of a linear transformat<br>7. Subspace,Span,Linear combinati<br>8. Basis,Dimension<br>9. Linear combination,Subspace,Sp<br>10. Basis<br>11. other</td>\n",
       "      <td id=\"T_89048_row7_col3\" class=\"data row7 col3\" >443 (4.6%)<br>401 (4.2%)<br>401 (4.2%)<br>399 (4.2%)<br>344 (3.6%)<br>314 (3.3%)<br>216 (2.3%)<br>210 (2.2%)<br>198 (2.1%)<br>186 (1.9%)<br>6,434 (67.4%)</td>\n",
       "      <td id=\"T_89048_row7_col4\" class=\"data row7 col4\" ><img src = \"data:image/png;base64, iVBORw0KGgoAAAANSUhEUgAAAJsAAAD+CAYAAAAtWHdlAAAAOXRFWHRTb2Z0d2FyZQBNYXRwbG90bGliIHZlcnNpb24zLjcuMiwgaHR0cHM6Ly9tYXRwbG90bGliLm9yZy8pXeV/AAAACXBIWXMAAA9hAAAPYQGoP6dpAAAECUlEQVR4nO3dQWobWQBF0a8gTDKRMAYtRovoxfYitBthpEEcMlEPkjS2Vc7Eqht39TmzuCaCXEpU8Z+9ulwuAwqf/vQH4P9DbGTERkZsZMRGRmxkxEZGbGTERmY1xvgyxrh74/r3y+XyFH4eFmz98PDw12azuZ+6eD6fH1er1d+C4xbWm83mfr/fP22322/PL5xOp8+Hw+H+eDzejTHExrutxxhju91+2+12Xyeuf4k/DwvmAYGM2MiIjYzYyIiNjNjIiI2M2MiIjYzYyIiNjNjIiI2M2Misx/hxdu31hamfwXusz+fz4+FwuB8TZ9fO5/PjGON7/7FYIhsEMiu/MouKOxsZ6yoy1lVkrKvIeKlLRmxkxEZGbGTERkZsZMRGRmxkxEZGbGTERkZsZMRGxuCFjMELGcfCyRi8kHFnI2PwQsbghYzBCxkvdcmIjYzYyIiNjNjIiI2M2MiIjYzYyIiNjNjIiI2M2MgYvJAxeCHjWDgZgxcyHhDI/O5r1FcoN/XmusqyilubXFdZVjGH362rLKu4KQ8IZMRGRmxkxEZGbGTERkZsZMRGRmxkxEZGbGTERkZsZCbXVZZVzOHNdZVlFbfmWDgZ6yoy7mxkDF7IGLyQMXgh46UuGbGRERsZsZERGxmxkREbGbGRERsZsZERGxmxkREbGYMXMgYvZBwLJ2PwQuatO5u7Gjc3OXgxdmEOV4MXYxfm8tbgxdiFm/NSl4zYyIiNjNjIiI2M2MiIjYzYyIiNjNjIiI2M2MiIjYzYyFytqyyrmMvkusqyijnYIJCxriIzdWdzV2MWV+sqyyrm8mJdZVnFnKbWVZZVzMJLXTJiIyM2MmIjIzYyYiMjNjJiIyM2MmIjIzYyYiMjNjIvBi/GLszpavBi7MJcHAsnY/BC5vWdzV2N2bwYvBi7MKdPvwYv+/3+6Wd0U38OEt7t38HLz38buzAbL3XJiI2M2MiIjYzYyIiNjNjIiI2M2MiIjYzYyIiNjNjIXP2FF5jL88GLsQuzciycjMELGQ8IZHyNkrGuImNdRca6iowHBDJiIyM2MmIjIzYyYiMjNjJiIyM2MmIjIzYyYiMjNjLWVWSsq8g4Fk7GuoqMOxsZgxcyBi9kDF7IeKlLRmxkxEZGbGTERkZsZMRGRmxkxEZGbGTERkZsZMRGxuCFjMELGcfCyRi8kHl9Z+PjWcy3zYvBCx/PkkZI61+Dl2c7BD6I0+n0+XA43B+Px7sxxn8/tjF+DF52u93XP/1hmLSYEZKXumTERkZsZMRGRmxkxEZGbGTERkZsZMRGRmxkxEZGbGQMXj6wpf2/PB+8LOYoy5IsaYTkWPjHt5hj4QYvZDwgkBEbGbGRERsZsZERGxmxkREbGbGR+Qf1DynFaM6ijgAAAABJRU5ErkJggg==\"></img></td>\n",
       "      <td id=\"T_89048_row7_col5\" class=\"data row7 col5\" >0<br>(0.0%)</td>\n",
       "    </tr>\n",
       "  </tbody>\n",
       "</table>\n"
      ],
      "text/plain": [
       "<pandas.io.formats.style.Styler at 0x1c2d7081a90>"
      ]
     },
     "execution_count": 6,
     "metadata": {},
     "output_type": "execute_result"
    }
   ],
   "source": [
    "dfSummary(df, is_collapsible=False) #or True"
   ]
  },
  {
   "cell_type": "code",
   "execution_count": 7,
   "id": "f61cfe3c",
   "metadata": {},
   "outputs": [],
   "source": [
    "#We can see that there are no missing values "
   ]
  },
  {
   "cell_type": "code",
   "execution_count": 8,
   "id": "254fec31",
   "metadata": {},
   "outputs": [
    {
     "data": {
      "text/plain": [
       "2083"
      ]
     },
     "execution_count": 8,
     "metadata": {},
     "output_type": "execute_result"
    }
   ],
   "source": [
    "#checking for duplicates\n",
    "df.duplicated().sum() "
   ]
  },
  {
   "cell_type": "code",
   "execution_count": 9,
   "id": "12f84b10",
   "metadata": {},
   "outputs": [],
   "source": [
    "#dropping duplicates\n",
    "data_no_dups = df.drop_duplicates()"
   ]
  },
  {
   "cell_type": "code",
   "execution_count": 10,
   "id": "827a529c",
   "metadata": {},
   "outputs": [
    {
     "data": {
      "text/html": [
       "<div>\n",
       "<style scoped>\n",
       "    .dataframe tbody tr th:only-of-type {\n",
       "        vertical-align: middle;\n",
       "    }\n",
       "\n",
       "    .dataframe tbody tr th {\n",
       "        vertical-align: top;\n",
       "    }\n",
       "\n",
       "    .dataframe thead th {\n",
       "        text-align: right;\n",
       "    }\n",
       "</style>\n",
       "<table border=\"1\" class=\"dataframe\">\n",
       "  <thead>\n",
       "    <tr style=\"text-align: right;\">\n",
       "      <th></th>\n",
       "      <th>Student_ID</th>\n",
       "      <th>Student_Country</th>\n",
       "      <th>Question_ID</th>\n",
       "      <th>Type_of_Answer</th>\n",
       "      <th>Question_Level</th>\n",
       "      <th>Topic</th>\n",
       "      <th>Subtopic</th>\n",
       "      <th>Keywords</th>\n",
       "    </tr>\n",
       "  </thead>\n",
       "  <tbody>\n",
       "    <tr>\n",
       "      <th>0</th>\n",
       "      <td>647</td>\n",
       "      <td>Ireland</td>\n",
       "      <td>77</td>\n",
       "      <td>0</td>\n",
       "      <td>Basic</td>\n",
       "      <td>Statistics</td>\n",
       "      <td>Statistics</td>\n",
       "      <td>Stem and Leaf diagram,Relative frequency,Sampl...</td>\n",
       "    </tr>\n",
       "    <tr>\n",
       "      <th>1</th>\n",
       "      <td>41</td>\n",
       "      <td>Portugal</td>\n",
       "      <td>77</td>\n",
       "      <td>1</td>\n",
       "      <td>Basic</td>\n",
       "      <td>Statistics</td>\n",
       "      <td>Statistics</td>\n",
       "      <td>Stem and Leaf diagram,Relative frequency,Sampl...</td>\n",
       "    </tr>\n",
       "    <tr>\n",
       "      <th>2</th>\n",
       "      <td>340</td>\n",
       "      <td>Portugal</td>\n",
       "      <td>77</td>\n",
       "      <td>1</td>\n",
       "      <td>Basic</td>\n",
       "      <td>Statistics</td>\n",
       "      <td>Statistics</td>\n",
       "      <td>Stem and Leaf diagram,Relative frequency,Sampl...</td>\n",
       "    </tr>\n",
       "    <tr>\n",
       "      <th>3</th>\n",
       "      <td>641</td>\n",
       "      <td>Italy</td>\n",
       "      <td>77</td>\n",
       "      <td>0</td>\n",
       "      <td>Basic</td>\n",
       "      <td>Statistics</td>\n",
       "      <td>Statistics</td>\n",
       "      <td>Stem and Leaf diagram,Relative frequency,Sampl...</td>\n",
       "    </tr>\n",
       "    <tr>\n",
       "      <th>4</th>\n",
       "      <td>669</td>\n",
       "      <td>Portugal</td>\n",
       "      <td>77</td>\n",
       "      <td>1</td>\n",
       "      <td>Basic</td>\n",
       "      <td>Statistics</td>\n",
       "      <td>Statistics</td>\n",
       "      <td>Stem and Leaf diagram,Relative frequency,Sampl...</td>\n",
       "    </tr>\n",
       "    <tr>\n",
       "      <th>...</th>\n",
       "      <td>...</td>\n",
       "      <td>...</td>\n",
       "      <td>...</td>\n",
       "      <td>...</td>\n",
       "      <td>...</td>\n",
       "      <td>...</td>\n",
       "      <td>...</td>\n",
       "      <td>...</td>\n",
       "    </tr>\n",
       "    <tr>\n",
       "      <th>9541</th>\n",
       "      <td>175</td>\n",
       "      <td>Italy</td>\n",
       "      <td>1497</td>\n",
       "      <td>1</td>\n",
       "      <td>Basic</td>\n",
       "      <td>Complex Numbers</td>\n",
       "      <td>Complex Numbers</td>\n",
       "      <td>Imaginary part,Conjugate number,Modulus of a c...</td>\n",
       "    </tr>\n",
       "    <tr>\n",
       "      <th>9542</th>\n",
       "      <td>175</td>\n",
       "      <td>Italy</td>\n",
       "      <td>1514</td>\n",
       "      <td>0</td>\n",
       "      <td>Basic</td>\n",
       "      <td>Complex Numbers</td>\n",
       "      <td>Complex Numbers</td>\n",
       "      <td>Operations with complex numbers</td>\n",
       "    </tr>\n",
       "    <tr>\n",
       "      <th>9543</th>\n",
       "      <td>175</td>\n",
       "      <td>Italy</td>\n",
       "      <td>1521</td>\n",
       "      <td>0</td>\n",
       "      <td>Basic</td>\n",
       "      <td>Fundamental Mathematics</td>\n",
       "      <td>Algebraic expressions, Equations, and Inequali...</td>\n",
       "      <td>Quadratic equations,Simplify expressions,Linea...</td>\n",
       "    </tr>\n",
       "    <tr>\n",
       "      <th>9544</th>\n",
       "      <td>175</td>\n",
       "      <td>Italy</td>\n",
       "      <td>1526</td>\n",
       "      <td>1</td>\n",
       "      <td>Basic</td>\n",
       "      <td>Fundamental Mathematics</td>\n",
       "      <td>Algebraic expressions, Equations, and Inequali...</td>\n",
       "      <td>Linear equations,Quadratic equations,Simplify ...</td>\n",
       "    </tr>\n",
       "    <tr>\n",
       "      <th>9545</th>\n",
       "      <td>175</td>\n",
       "      <td>Italy</td>\n",
       "      <td>1549</td>\n",
       "      <td>0</td>\n",
       "      <td>Basic</td>\n",
       "      <td>Fundamental Mathematics</td>\n",
       "      <td>Algebraic expressions, Equations, and Inequali...</td>\n",
       "      <td>Simplify expressions,Linear equations,Quadrati...</td>\n",
       "    </tr>\n",
       "  </tbody>\n",
       "</table>\n",
       "<p>7463 rows × 8 columns</p>\n",
       "</div>"
      ],
      "text/plain": [
       "      Student_ID Student_Country  Question_ID Type_of_Answer Question_Level  \\\n",
       "0            647         Ireland           77              0          Basic   \n",
       "1             41        Portugal           77              1          Basic   \n",
       "2            340        Portugal           77              1          Basic   \n",
       "3            641           Italy           77              0          Basic   \n",
       "4            669        Portugal           77              1          Basic   \n",
       "...          ...             ...          ...            ...            ...   \n",
       "9541         175           Italy         1497              1          Basic   \n",
       "9542         175           Italy         1514              0          Basic   \n",
       "9543         175           Italy         1521              0          Basic   \n",
       "9544         175           Italy         1526              1          Basic   \n",
       "9545         175           Italy         1549              0          Basic   \n",
       "\n",
       "                        Topic  \\\n",
       "0                  Statistics   \n",
       "1                  Statistics   \n",
       "2                  Statistics   \n",
       "3                  Statistics   \n",
       "4                  Statistics   \n",
       "...                       ...   \n",
       "9541          Complex Numbers   \n",
       "9542          Complex Numbers   \n",
       "9543  Fundamental Mathematics   \n",
       "9544  Fundamental Mathematics   \n",
       "9545  Fundamental Mathematics   \n",
       "\n",
       "                                               Subtopic  \\\n",
       "0                                            Statistics   \n",
       "1                                            Statistics   \n",
       "2                                            Statistics   \n",
       "3                                            Statistics   \n",
       "4                                            Statistics   \n",
       "...                                                 ...   \n",
       "9541                                    Complex Numbers   \n",
       "9542                                    Complex Numbers   \n",
       "9543  Algebraic expressions, Equations, and Inequali...   \n",
       "9544  Algebraic expressions, Equations, and Inequali...   \n",
       "9545  Algebraic expressions, Equations, and Inequali...   \n",
       "\n",
       "                                               Keywords  \n",
       "0     Stem and Leaf diagram,Relative frequency,Sampl...  \n",
       "1     Stem and Leaf diagram,Relative frequency,Sampl...  \n",
       "2     Stem and Leaf diagram,Relative frequency,Sampl...  \n",
       "3     Stem and Leaf diagram,Relative frequency,Sampl...  \n",
       "4     Stem and Leaf diagram,Relative frequency,Sampl...  \n",
       "...                                                 ...  \n",
       "9541  Imaginary part,Conjugate number,Modulus of a c...  \n",
       "9542                    Operations with complex numbers  \n",
       "9543  Quadratic equations,Simplify expressions,Linea...  \n",
       "9544  Linear equations,Quadratic equations,Simplify ...  \n",
       "9545  Simplify expressions,Linear equations,Quadrati...  \n",
       "\n",
       "[7463 rows x 8 columns]"
      ]
     },
     "execution_count": 10,
     "metadata": {},
     "output_type": "execute_result"
    }
   ],
   "source": [
    "data_no_dups"
   ]
  },
  {
   "cell_type": "code",
   "execution_count": 11,
   "id": "876c2f9e",
   "metadata": {},
   "outputs": [
    {
     "data": {
      "image/png": "[encoded data removed]",
      "text/plain": [
       "<Figure size 1000x600 with 1 Axes>"
      ]
     },
     "metadata": {},
     "output_type": "display_data"
    }
   ],
   "source": [
    "#a -Are there differences in performance (Type of Answer) between students from different countries (Student Country)?\n",
    "plt.figure(figsize = (10, 6))\n",
    "sns.countplot(data = df, x = 'Student_Country', hue = 'Type_of_Answer')\n",
    "plt.title('Count of Type of Answers by Country')\n",
    "plt.show()"
   ]
  },
  {
   "cell_type": "markdown",
   "id": "9cf487fe",
   "metadata": {},
   "source": [
    "From the graph we can see that there are difference in performances between students from different countries "
   ]
  },
  {
   "cell_type": "code",
   "execution_count": 12,
   "id": "a982ed3c",
   "metadata": {},
   "outputs": [],
   "source": [
    "#b. Which countries have the highest percentage of correct answers (Type of Answer= 1)?"
   ]
  },
  {
   "cell_type": "code",
   "execution_count": 27,
   "id": "85c1ee0a",
   "metadata": {},
   "outputs": [
    {
     "name": "stdout",
     "output_type": "stream",
     "text": [
      "Student_Country\n",
      "Slovenia              0.687417\n",
      "Romania               0.583333\n",
      "Ireland               0.460000\n",
      "Portugal              0.453867\n",
      "Italy                 0.446244\n",
      "Lithuania             0.435897\n",
      "Spain                 0.428571\n",
      "Russian Federation    0.345794\n",
      "dtype: float64\n"
     ]
    }
   ],
   "source": [
    "correct_answers = df[df['Type_of_Answer'] == '1']\n",
    "country_correct_pct = correct_answers.groupby('Student_Country').size()/df.groupby('Student_Country').size() #i used .size() instead of .count() to count every row including nullones containing null values\n",
    "print(country_correct_pct.sort_values(ascending = False))"
   ]
  },
  {
   "cell_type": "markdown",
   "id": "d6328f47",
   "metadata": {},
   "source": [
    "From the graph we can tell that portugal had the highest count of type of answers. Now to finding the percentage "
   ]
  },
  {
   "cell_type": "code",
   "execution_count": 29,
   "id": "300e6152",
   "metadata": {},
   "outputs": [
    {
     "data": {
      "image/png": "[encoded data removed]",
      "text/plain": [
       "<Figure size 640x480 with 1 Axes>"
      ]
     },
     "metadata": {},
     "output_type": "display_data"
    }
   ],
   "source": [
    "#Distribution of Correct vs Incorrect Answers by Country\n",
    "answer_distribution = df.groupby([\"Student_Country\", \"Type_of_Answer\"]).size().unstack()\n",
    "answer_distribution.plot(kind=\"bar\", stacked = True)\n",
    "plt.show() #add labels to graph and change x axis font"
   ]
  },
  {
   "cell_type": "code",
   "execution_count": 15,
   "id": "9bff63de",
   "metadata": {},
   "outputs": [],
   "source": [
    "#d Is there a pattern in the Type of Answer (correct or incorrect) by the Question Level?"
   ]
  },
  {
   "cell_type": "code",
   "execution_count": 16,
   "id": "c3721ef0",
   "metadata": {},
   "outputs": [
    {
     "name": "stdout",
     "output_type": "stream",
     "text": [
      "Type_of_Answer     0     1\n",
      "Question_Level            \n",
      "Advanced         849   853\n",
      "Basic           4227  3617\n"
     ]
    },
    {
     "data": {
      "image/png": "[encoded data removed]",
      "text/plain": [
       "<Figure size 640x480 with 1 Axes>"
      ]
     },
     "metadata": {},
     "output_type": "display_data"
    }
   ],
   "source": [
    "level_pattern = df.groupby([\"Question_Level\", \"Type_of_Answer\"]).size().unstack()\n",
    "print(level_pattern)\n",
    "\n",
    "level_pattern.plot(kind=\"bar\", stacked=True)\n",
    "plt.show()"
   ]
  },
  {
   "cell_type": "markdown",
   "id": "7f549fd7",
   "metadata": {},
   "source": [
    "Yes there is a pattern in the type of answer by question levels. From the the graph above we can tell that majority of the students answered in the basic level"
   ]
  },
  {
   "cell_type": "code",
   "execution_count": 30,
   "id": "538512df",
   "metadata": {},
   "outputs": [
    {
     "name": "stdout",
     "output_type": "stream",
     "text": [
      "Question_Level\n",
      "Advanced    0.501175\n",
      "Basic       0.461117\n",
      "dtype: float64\n"
     ]
    }
   ],
   "source": [
    "# What is the average success rate on different question levels (e.g., easy vs hard)?\n",
    "success_rate = df[df['Type_of_Answer'] == '1'].groupby('Question_Level').size()/df.groupby('Question_Level').size()\n",
    "print(success_rate)"
   ]
  },
  {
   "cell_type": "code",
   "execution_count": 18,
   "id": "15c991d1",
   "metadata": {},
   "outputs": [],
   "source": [
    "#f. Which topics are students performing the best in? (i.e., highest percentage ofcorrect answers per Topic)"
   ]
  },
  {
   "cell_type": "code",
   "execution_count": 31,
   "id": "74f19510",
   "metadata": {},
   "outputs": [
    {
     "name": "stdout",
     "output_type": "stream",
     "text": [
      "Topic\n",
      "Set Theory                             64.285714\n",
      "Graph Theory                           58.181818\n",
      "Differential Equations                 53.703704\n",
      "Linear Algebra                         49.022005\n",
      "Analytic Geometry                      48.882682\n",
      "Statistics                             47.941176\n",
      "Fundamental Mathematics                46.577017\n",
      "Complex Numbers                        45.439189\n",
      "Integration                            44.444444\n",
      "Numerical Methods                      38.709677\n",
      "Optimization                           38.461538\n",
      "Probability                            37.500000\n",
      "Real Functions of a single variable    35.365854\n",
      "Differentiation                        34.196891\n",
      "dtype: float64\n"
     ]
    }
   ],
   "source": [
    "topic_performance = df[df[\"Type_of_Answer\"] == '1'].groupby(\"Topic\").size() / df.groupby(\"Topic\").size() * 100\n",
    "print(topic_performance.sort_values(ascending=False))"
   ]
  },
  {
   "cell_type": "code",
   "execution_count": 24,
   "id": "b6320dbe",
   "metadata": {},
   "outputs": [],
   "source": [
    "#Students struggle more with subtopics like integration techniques and probability"
   ]
  },
  {
   "cell_type": "code",
   "execution_count": null,
   "id": "589f124c",
   "metadata": {},
   "outputs": [],
   "source": []
  }
 ],
 "metadata": {
  "kernelspec": {
   "display_name": "Python 3 (ipykernel)",
   "language": "python",
   "name": "python3"
  },
  "language_info": {
   "codemirror_mode": {
    "name": "ipython",
    "version": 3
   },
   "file_extension": ".py",
   "mimetype": "text/x-python",
   "name": "python",
   "nbconvert_exporter": "python",
   "pygments_lexer": "ipython3",
   "version": "3.12.7"
  }
 },
 "nbformat": 4,
 "nbformat_minor": 5
}
